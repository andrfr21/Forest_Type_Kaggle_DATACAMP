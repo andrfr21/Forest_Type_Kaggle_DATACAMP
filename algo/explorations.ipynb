{
 "cells": [
  {
   "cell_type": "code",
   "execution_count": null,
   "id": "1785b8c5-dcde-4ab3-b761-027b32d8017e",
   "metadata": {},
   "outputs": [],
   "source": [
    "import pandas as pd\n",
    "train = pd.read_csv(\"train.csv\")\n",
    "print(train)"
   ]
  },
  {
   "cell_type": "code",
   "execution_count": null,
   "id": "4441a107-4707-4e6a-8c44-3725ecbb1e6c",
   "metadata": {},
   "outputs": [],
   "source": [
    "train[\"Cover_Type\"].value_counts()"
   ]
  },
  {
   "cell_type": "code",
   "execution_count": null,
   "id": "815fd49e-da63-437f-879d-4afeb267e17c",
   "metadata": {},
   "outputs": [],
   "source": [
    "train.describe()"
   ]
  },
  {
   "cell_type": "code",
   "execution_count": null,
   "id": "bd6bd0bf-ed42-44bb-8572-4d33744be162",
   "metadata": {},
   "outputs": [],
   "source": [
    "import matplotlib.pyplot as plt\n",
    "\n",
    "train.groupby(\"Cover_Type\")[\"Elevation\"].plot.hist(alpha=0.5, legend=True)\n",
    "plt.xlabel(\"Elevation\")\n",
    "plt.show()\n"
   ]
  },
  {
   "cell_type": "code",
   "execution_count": null,
   "id": "bf01d549-d456-4560-bb67-50abd9dea64c",
   "metadata": {},
   "outputs": [],
   "source": [
    "import plotly.express as px\n",
    "fig = px.histogram(train, x=\"Elevation\", color=\"Cover_Type\", barmode=\"group\")\n",
    "fig.show()"
   ]
  },
  {
   "cell_type": "code",
   "execution_count": null,
   "id": "d62df295-03a7-4081-b975-2246755da7f0",
   "metadata": {},
   "outputs": [],
   "source": [
    "import plotly.express as px\n",
    "\n",
    "for col in train.columns:  # <-- pas de parenthèses !\n",
    "    fig = px.histogram(train, x=col, color=\"Cover_Type\", barmode=\"group\")\n",
    "    fig.show()\n"
   ]
  },
  {
   "cell_type": "code",
   "execution_count": null,
   "id": "c8f83c52-9a99-4107-b026-5bd7c6a4f96f",
   "metadata": {},
   "outputs": [],
   "source": [
    "soil_cols = [c for c in train.columns if \"Soil_Type\" in c]\n",
    "train[soil_cols].sum().sort_values(ascending=False)\n"
   ]
  },
  {
   "cell_type": "code",
   "execution_count": 1,
   "id": "ce28a877-1932-4fab-b2b7-83b74e0a6451",
   "metadata": {},
   "outputs": [],
   "source": [
    "import pandas as pd\n",
    "train = pd.read_csv(\"train.csv\")\n"
   ]
  },
  {
   "cell_type": "code",
   "execution_count": 2,
   "id": "0fda9c7a-5caf-4b06-99c1-5b02d5743210",
   "metadata": {},
   "outputs": [
    {
     "name": "stdout",
     "output_type": "stream",
     "text": [
      "Accuracy: 0.8531746031746031\n"
     ]
    }
   ],
   "source": [
    "X = train.drop(columns=[\"Cover_Type\", \"Id\"])\n",
    "y = train[\"Cover_Type\"]\n",
    "\n",
    "from sklearn.model_selection import train_test_split\n",
    "X_train, X_val, y_train, y_val = train_test_split(\n",
    "    X, y, test_size=0.2, random_state=42, stratify=y\n",
    ")\n",
    "\n",
    "from sklearn.ensemble import RandomForestClassifier\n",
    "from sklearn.metrics import accuracy_score\n",
    "\n",
    "model = RandomForestClassifier(\n",
    "    n_estimators=1200,\n",
    "    max_depth=30,\n",
    "    min_samples_leaf=2,\n",
    "    max_features=\"sqrt\",\n",
    "    n_jobs=-1,\n",
    "    random_state=42,\n",
    "    class_weight=None,  # ou \"balanced\"\n",
    "    oob_score=True,\n",
    ")\n",
    "model.fit(X_train, y_train)\n",
    "\n",
    "y_pred = model.predict(X_val)\n",
    "print(\"Accuracy:\", accuracy_score(y_val, y_pred))\n"
   ]
  },
  {
   "cell_type": "code",
   "execution_count": null,
   "id": "60518be8-3c62-4802-b3e7-3a2e5ef8de95",
   "metadata": {},
   "outputs": [],
   "source": [
    "import pandas as pd\n",
    "import matplotlib.pyplot as plt\n",
    "\n",
    "importances = model.feature_importances_\n",
    "feat_names = X.columns\n",
    "\n",
    "feat_imp = pd.Series(importances, index=feat_names).sort_values(ascending=False)\n",
    "\n",
    "# Afficher les 15 plus importantes\n",
    "feat_imp.head(15).plot(kind=\"barh\", figsize=(8,6))\n",
    "plt.show()\n"
   ]
  },
  {
   "cell_type": "code",
   "execution_count": null,
   "id": "dab496fe-e1f7-4dcb-8d3f-5ec569fad778",
   "metadata": {},
   "outputs": [],
   "source": [
    "import pandas as pd\n",
    "from sklearn.model_selection import train_test_split, StratifiedKFold\n",
    "from sklearn.ensemble import RandomForestClassifier\n",
    "from sklearn.metrics import accuracy_score\n",
    "\n",
    "train = pd.read_csv(\"train.csv\")\n",
    "\n",
    "\n",
    "# --- 2) Features ingénierées légères (provenant de solutions Kaggle fréquentes) ---\n",
    "if set([\"Horizontal_Distance_To_Hydrology\",\n",
    "        \"Horizontal_Distance_To_Roadways\",\n",
    "        \"Horizontal_Distance_To_Fire_Points\"]).issubset(train.columns):\n",
    "    train[\"HF_diff\"] = train[\"Horizontal_Distance_To_Hydrology\"] - train[\"Horizontal_Distance_To_Fire_Points\"]\n",
    "    train[\"HR_diff\"] = train[\"Horizontal_Distance_To_Hydrology\"] - train[\"Horizontal_Distance_To_Roadways\"]\n",
    "    train[\"RF_diff\"] = train[\"Horizontal_Distance_To_Roadways\"] - train[\"Horizontal_Distance_To_Fire_Points\"]\n",
    "    train[\"Dist_Sum\"] = (train[\"Horizontal_Distance_To_Hydrology\"] +\n",
    "                         train[\"Horizontal_Distance_To_Roadways\"] +\n",
    "                         train[\"Horizontal_Distance_To_Fire_Points\"])\n",
    "\n",
    "if set([\"Hillshade_9am\",\"Hillshade_Noon\",\"Hillshade_3pm\"]).issubset(train.columns):\n",
    "    hs = train[[\"Hillshade_9am\",\"Hillshade_Noon\",\"Hillshade_3pm\"]]\n",
    "    train[\"Hillshade_Mean\"] = hs.mean(axis=1)\n",
    "    train[\"Hillshade_Range\"] = hs.max(axis=1) - hs.min(axis=1)\n",
    "\n",
    "if set([\"Elevation\",\"Vertical_Distance_To_Hydrology\"]).issubset(train.columns):\n",
    "    train[\"Elev_minus_VertHydro\"] = train[\"Elevation\"] - train[\"Vertical_Distance_To_Hydrology\"]\n",
    "    train[\"Abs_VertHydro\"] = train[\"Vertical_Distance_To_Hydrology\"].abs()\n",
    "\n",
    "# --- 3) Split & RF (un peu plus costaud) ---\n",
    "X = train.drop(columns=[\"Cover_Type\",\"Id\"])\n",
    "y = train[\"Cover_Type\"]\n",
    "\n",
    "X_train, X_val, y_train, y_val = train_test_split(\n",
    "    X, y, test_size=0.2, random_state=42, stratify=y\n",
    ")\n",
    "\n",
    "model = RandomForestClassifier(\n",
    "    n_estimators=600,           # + d’arbres\n",
    "    max_features=\"sqrt\",       # bon défaut\n",
    "    min_samples_leaf=2,        # réduit l’overfit\n",
    "    oob_score=True,            # score OOB pratique\n",
    "    class_weight=None,         # mets \"balanced_subsample\" si déséquilibre marqué\n",
    "    n_jobs=-1,\n",
    "    random_state=42\n",
    ")\n",
    "model.fit(X_train, y_train)\n",
    "\n",
    "y_pred = model.predict(X_val)\n",
    "print(\"Val Accuracy:\", accuracy_score(y_val, y_pred))\n",
    "if hasattr(model, \"oob_score_\"):\n",
    "    print(\"OOB Accuracy:\", model.oob_score_)\n"
   ]
  },
  {
   "cell_type": "code",
   "execution_count": null,
   "id": "e8f4cd24-2621-4e06-b1b7-13ad5daf5223",
   "metadata": {},
   "outputs": [],
   "source": [
    "from sklearn.compose import ColumnTransformer\n",
    "from sklearn.preprocessing import OneHotEncoder\n",
    "from sklearn.pipeline import make_pipeline\n",
    "from sklearn.ensemble import RandomForestClassifier\n",
    "from sklearn.metrics import accuracy_score\n",
    "\n",
    "X = train.drop(columns=[\"Cover_Type\", \"Id\"])\n",
    "y = train[\"Cover_Type\"]\n",
    "\n",
    "from sklearn.model_selection import train_test_split\n",
    "X_train, X_val, y_train, y_val = train_test_split(\n",
    "    X, y, test_size=0.2, random_state=42, stratify=y\n",
    ")\n",
    "\n",
    "# OneHot uniquement pour Soil_Type (colonne unique), pass-through pour le reste\n",
    "preprocess = ColumnTransformer(\n",
    "    transformers=[\n",
    "        (\"soil\", OneHotEncoder(handle_unknown=\"ignore\"), [\"Soil_Type\"]),\n",
    "    ],\n",
    "    remainder=\"passthrough\",\n",
    ")\n",
    "\n",
    "model = RandomForestClassifier(\n",
    "    n_estimators=800,\n",
    "    max_features=\"sqrt\",\n",
    "    min_samples_leaf=2,\n",
    "    bootstrap=True,\n",
    "    oob_score=True,\n",
    "    n_jobs=-1,\n",
    "    random_state=42,\n",
    ")\n",
    "\n",
    "pipe = make_pipeline(preprocess, model)\n",
    "pipe.fit(X_train, y_train)\n",
    "\n",
    "y_pred = pipe.predict(X_val)\n",
    "print(\"Accuracy:\", accuracy_score(y_val, y_pred))\n",
    "# Optionnel : print(\"OOB:\", pipe.named_steps[\"randomforestclassifier\"].oob_score_)\n"
   ]
  },
  {
   "cell_type": "code",
   "execution_count": null,
   "id": "84498268-d09d-464c-802f-ac507f8c8890",
   "metadata": {},
   "outputs": [],
   "source": []
  }
 ],
 "metadata": {
  "kernelspec": {
   "display_name": "Python 3 (ipykernel)",
   "language": "python",
   "name": "python3"
  },
  "language_info": {
   "codemirror_mode": {
    "name": "ipython",
    "version": 3
   },
   "file_extension": ".py",
   "mimetype": "text/x-python",
   "name": "python",
   "nbconvert_exporter": "python",
   "pygments_lexer": "ipython3",
   "version": "3.13.5"
  }
 },
 "nbformat": 4,
 "nbformat_minor": 5
}
